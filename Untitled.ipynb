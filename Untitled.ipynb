{
 "cells": [
  {
   "cell_type": "code",
   "execution_count": 59,
   "id": "private-terrorism",
   "metadata": {},
   "outputs": [],
   "source": [
    "def calculadora(operacion):\n",
    "    \n",
    "    try:\n",
    "        resultado = eval(operacion)\n",
    "        print(f'{resultado}')\n",
    "    except (SyntaxError, NameError, TypeError) as e:\n",
    "        print('error')\n",
    "        print(f'{e}')\n"
   ]
  },
  {
   "cell_type": "code",
   "execution_count": 60,
   "id": "heated-cinema",
   "metadata": {},
   "outputs": [
    {
     "name": "stdout",
     "output_type": "stream",
     "text": [
      "error\n",
      "name 'e' is not defined\n"
     ]
    }
   ],
   "source": [
    "operacion = '5*e'\n",
    "calculadora(operacion)"
   ]
  }
 ],
 "metadata": {
  "kernelspec": {
   "display_name": "Python 3",
   "language": "python",
   "name": "python3"
  },
  "language_info": {
   "codemirror_mode": {
    "name": "ipython",
    "version": 3
   },
   "file_extension": ".py",
   "mimetype": "text/x-python",
   "name": "python",
   "nbconvert_exporter": "python",
   "pygments_lexer": "ipython3",
   "version": "3.8.2"
  }
 },
 "nbformat": 4,
 "nbformat_minor": 5
}
