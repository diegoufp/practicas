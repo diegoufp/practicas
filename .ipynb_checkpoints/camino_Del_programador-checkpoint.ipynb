{
 "cells": [
  {
   "cell_type": "code",
   "execution_count": 3,
   "id": "animal-north",
   "metadata": {},
   "outputs": [
    {
     "name": "stdout",
     "output_type": "stream",
     "text": [
      "Hola, mundo\n"
     ]
    }
   ],
   "source": [
    "print(\"Hola, mundo\")"
   ]
  },
  {
   "cell_type": "code",
   "execution_count": 10,
   "id": "northern-museum",
   "metadata": {},
   "outputs": [
    {
     "name": "stdout",
     "output_type": "stream",
     "text": [
      "5\n",
      "5.55\n",
      "5.0\n"
     ]
    }
   ],
   "source": [
    "# valor absoludo\n",
    "print(abs(-5))\n",
    "print(abs(5.55))\n",
    "# para los numeros comejos abs devuelve la magnitud\n",
    "print(abs(3 - 4j))"
   ]
  },
  {
   "cell_type": "code",
   "execution_count": 11,
   "id": "signed-reducing",
   "metadata": {},
   "outputs": [
    {
     "data": {
      "text/plain": [
       "8"
      ]
     },
     "execution_count": 11,
     "metadata": {},
     "output_type": "execute_result"
    }
   ],
   "source": [
    "# funcion de potencia (valor, exponente)\n",
    "pow(2,3)"
   ]
  },
  {
   "cell_type": "code",
   "execution_count": 13,
   "id": "advisory-procedure",
   "metadata": {},
   "outputs": [
    {
     "data": {
      "text/plain": [
       "\"str(object='') -> str\\nstr(bytes_or_buffer[, encoding[, errors]]) -> str\\n\\nCreate a new string object from the given object. If encoding or\\nerrors is specified, then the object must expose a data buffer\\nthat will be decoded using the given encoding and error handler.\\nOtherwise, returns the result of object.__str__() (if defined)\\nor repr(object).\\nencoding defaults to sys.getdefaultencoding().\\nerrors defaults to 'strict'.\""
      ]
     },
     "execution_count": 13,
     "metadata": {},
     "output_type": "execute_result"
    }
   ],
   "source": [
    "# Encontrar la documetnaacion de clases y funciones\n",
    "str.__doc__"
   ]
  },
  {
   "cell_type": "code",
   "execution_count": 19,
   "id": "distinguished-hometown",
   "metadata": {},
   "outputs": [
    {
     "data": {
      "text/plain": [
       "<method 'find' of 'str' objects>"
      ]
     },
     "execution_count": 19,
     "metadata": {},
     "output_type": "execute_result"
    }
   ],
   "source": [
    "str.find"
   ]
  },
  {
   "cell_type": "code",
   "execution_count": 34,
   "id": "civil-domestic",
   "metadata": {},
   "outputs": [
    {
     "name": "stdout",
     "output_type": "stream",
     "text": [
      "5 5 2.000000\n",
      "3.00\n",
      "7.00      0.50      \n",
      "$ 3.00n $ 4.50n $11.20\n",
      "esto eso algo\n",
      "3 3.000000 tres\n"
     ]
    }
   ],
   "source": [
    "print(\"%s %d %f\" % (5, 5,2))\n",
    "print(\"%-.2f\" % 3)\n",
    "print(\"%-10.2f%-10.2f\" % (7, 1.0/2))\n",
    "print(\"$%5.2fn $%5.2fn $%5.2f\" % (3, 4.5, 11.2))\n",
    "print(\"%s %s %s\" % ('esto', 'eso', 'algo'))\n",
    "print(\"%d %f %s\" % (3, 3, 'tres'))"
   ]
  }
 ],
 "metadata": {
  "kernelspec": {
   "display_name": "Python 3",
   "language": "python",
   "name": "python3"
  },
  "language_info": {
   "codemirror_mode": {
    "name": "ipython",
    "version": 3
   },
   "file_extension": ".py",
   "mimetype": "text/x-python",
   "name": "python",
   "nbconvert_exporter": "python",
   "pygments_lexer": "ipython3",
   "version": "3.8.2"
  }
 },
 "nbformat": 4,
 "nbformat_minor": 5
}
